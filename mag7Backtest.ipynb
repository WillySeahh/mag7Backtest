{
 "cells": [
  {
   "cell_type": "markdown",
   "id": "0187de04-8efd-4eb2-bd8b-de5ea3e03437",
   "metadata": {},
   "source": [
    "# Magnificent 7 Backtesting\n",
    "by Willy Seah\n",
    "\n",
    "In this analysis, I will attempt at creating a backtesting system to evaluate a \n",
    "group of stocks known as the \"Magnificent 7\": Microsoft (MSFT), Apple (AAPL), Nvidia (NVDA),\n",
    "Amazon (AMZN), Google (GOOG), Meta (META), and Tesla (TSLA) in the U.S. stock market. "
   ]
  },
  {
   "cell_type": "markdown",
   "id": "beb77be7-ac8a-444e-ab1a-328ffe7b3770",
   "metadata": {},
   "source": [
    "# Section 1: Downloading & processing of data\n",
    "Used Yahoo Finance for source of data and have set auto_adjust query parameter to be True to account for adjusted open close prices. \n",
    "\n",
    "There are 7 tickers and they will be stored in a dictionary `stock_data` where the key is the ticker and value is the dataframe from Yahoo.\n",
    "\n",
    "Have decided to drop the Volume, High and Low columns as they are not necessary for my backtesting. "
   ]
  },
  {
   "cell_type": "code",
   "execution_count": 44,
   "id": "0e2b93cd-1a82-48f4-aa2f-2e6c2ff89aca",
   "metadata": {},
   "outputs": [
    {
     "name": "stderr",
     "output_type": "stream",
     "text": [
      "[*********************100%***********************]  1 of 1 completed\n",
      "[*********************100%***********************]  1 of 1 completed\n",
      "[*********************100%***********************]  1 of 1 completed\n",
      "[*********************100%***********************]  1 of 1 completed\n",
      "[*********************100%***********************]  1 of 1 completed\n",
      "[*********************100%***********************]  1 of 1 completed\n",
      "[*********************100%***********************]  1 of 1 completed\n"
     ]
    }
   ],
   "source": [
    "import yfinance as yf\n",
    "import pandas as pd\n",
    "import numpy as np\n",
    "\n",
    "pd.set_option('display.max_rows', None)\n",
    "pd.set_option('display.max_columns', None)\n",
    "pd.set_option('display.width', None)\n",
    "pd.set_option('display.max_colwidth', None) \n",
    "\n",
    "tickers = ['MSFT', 'AAPL', 'NVDA','AMZN','GOOG','META','TSLA']\n",
    "stock_data = {}\n",
    "for ticker in tickers:\n",
    "    stock_data[ticker] = yf.download(ticker, start = '1981-01-01', end = '2023-12-31', auto_adjust=True)\n",
    "    stock_data[ticker] = stock_data[ticker].drop(['Volume', 'High', 'Low'], axis=1) # Do not need this"
   ]
  },
  {
   "cell_type": "markdown",
   "id": "87f418a9-1c4e-4177-bec1-31aabbbff129",
   "metadata": {},
   "source": [
    "# Section 1b: Cleaning of Dataset\n",
    "We check if there are any NaN/Null data for the 7 datasets we downloaded. \n",
    "For this case, I have ran it and there is no missing datas.\n",
    "\n",
    "If there is we could either choose to:\n",
    "1. Drop the row\n",
    "2. Forward fill them using `.fillna(method='ffill')`\n",
    "\n",
    "But since that is not the case here, I have skipped/commented it out. \n",
    "\n",
    "For dirty datasets it is important that we do the necesssary cleaning/pre-processing to ensure the accuracy of our backtesting result. \n"
   ]
  },
  {
   "cell_type": "code",
   "execution_count": 5,
   "id": "8e9ab683-6693-4056-8344-2d80da64b263",
   "metadata": {},
   "outputs": [],
   "source": [
    "# for ticker, df in stock_data.items():\n",
    "#     for index, row in df.iterrows():\n",
    "#         for column in df.columns:\n",
    "#             if pd.isnull(row[column]):\n",
    "#                 print(f\"Missing value found in {ticker} at index {index} and column {column}\")"
   ]
  },
  {
   "cell_type": "markdown",
   "id": "d86d5c41-3f57-409d-81b9-9cc097b7550f",
   "metadata": {},
   "source": [
    "# Section 2: Implementing an Indicator\n",
    "The indicator used for my backtesting is Relative Strength Index, a momentum indicator that measures the speed and change of price movement of a security over 14 days.\n",
    "\n",
    "**It is used to identify overbought and oversold conditions in the market.**\n",
    "\n",
    "Given we have the 'Close' prices from the previous step, we can use `calculate_rsi` function to create a 'RSI' column and add it to the 7 dataframe we have, each for 1 ticker."
   ]
  },
  {
   "cell_type": "code",
   "execution_count": 46,
   "id": "161c4744-db7f-4290-ad50-734c6e040049",
   "metadata": {},
   "outputs": [],
   "source": [
    "import ta\n",
    "import pandas as pd\n",
    "\n",
    "def calculate_rsi(df, window=14):\n",
    "    delta = df.diff(1)\n",
    "    gain = (delta.where(delta > 0, 0)).rolling(window=window).mean()\n",
    "    loss = (-delta.where(delta < 0, 0)).rolling(window=window).mean()\n",
    "    rs = gain / loss\n",
    "    rsi = 100 - (100 / (1 + rs))\n",
    "    return rsi\n",
    "\n",
    "for ticker, data in stock_data.items():\n",
    "    data['RSI'] = calculate_rsi(data['Close'])"
   ]
  },
  {
   "cell_type": "markdown",
   "id": "1578664f-d7e5-43dc-93ed-e33f0a1744fc",
   "metadata": {},
   "source": [
    "# Section 3: Generating signals using our indicator\n",
    "\n",
    "We are using these formuals to determine whether to buy or sell that stock\n",
    "- Buy Signal: RSI < 25 (indicates an oversold stock)\n",
    "- Sell Signal: RSI > 75 (indicates an overbought stock)\n",
    "\n",
    "Append 2 new columns to each of the dataframe indicating when to Buy and Sell. They are mutually exclusive in the sense where it will be **Buy Or Sell Or Do Nothing**. There will not be an instance of both Buy And Sell"
   ]
  },
  {
   "cell_type": "code",
   "execution_count": 49,
   "id": "df2128b4-edac-4a91-b4f9-0eec7d6492b6",
   "metadata": {},
   "outputs": [],
   "source": [
    "# Define buy and sell signals\n",
    "\n",
    "pd.set_option('display.max_rows', None)\n",
    "pd.set_option('display.max_columns', None)\n",
    "pd.set_option('display.width', None)\n",
    "pd.set_option('display.max_colwidth', None)\n",
    "\n",
    "for ticker, data in stock_data.items():\n",
    "    data['Buy Signal'] = np.where(data['RSI'] < 25, 1, 0)\n",
    "    data['Sell Signal'] = np.where(data['RSI'] > 75, 1, 0)\n"
   ]
  },
  {
   "cell_type": "markdown",
   "id": "75c2522f-f15a-4cd9-92ae-8866841dfdd0",
   "metadata": {},
   "source": [
    "# Section 4: Backtesting\n",
    "\n",
    "From 1981-01-01 till 2023-12-31, we iterate each day and check if there is a Buy or Sell Signal for each of our 7 tickers. \n",
    "\n",
    "Use a dictionary/map called `portfolio` to indicate which ticker and shares_held. \n",
    "\n",
    "Here are the requirements:\n",
    "\n",
    "1. Initial Capital: USD 1,000,000\n",
    "2. Commission per trade: 0.10%\n",
    "3. Slippage per trade: 0.02%\n",
    "4. Minimum transaction: 10 shares per trade\n",
    "5. Equal weightage among stocks that I need to Buy or Sell\n",
    "\n",
    "For simplicity, I have set the order size for every trade to be **X (to be discussed more below)**, this is to ensure fairness throughout each ticker. \n",
    "\n",
    "Before buying we check that we have enough `initial_capital` before buying, if there is insufficient then we are unable to buy and hence 'lose' that opportunity to buy that stock. \n",
    "\n",
    "- When there is a Buy Signal:\n",
    "\n",
    "    I purchase X of that stock at its Close price\n",
    "\n",
    "    Add that to my `portfolio`\n",
    "  \n",
    "    Reduce the `initial_capital` \n",
    "\n",
    "- When there is a Sell Signal:\n",
    "\n",
    "    I sell X of that stock at its Close price\n",
    "  \n",
    "    Deduct that from my `portfolio`\n",
    "\n",
    "    Add it to `initial_capital`\n",
    "\n",
    "\n",
    "At the end of every day, I calculate my `total_portfolio_value` which is initial_capital + the current closing price of all my portfolio holdings and save it into a `portfolio_value_df` \n",
    "\n",
    "At the end of everyday, I also perform portfolio rebalancing should a single stock exceed 30% of my `total_portfolio_value` (excluding initial_capital). This is done by calculating how much excess share needed to be sold to bring it under 30%, and this selling price is added back to my initial_capital\n",
    "\n"
   ]
  },
  {
   "cell_type": "markdown",
   "id": "213d548f-4c97-4d85-9e93-9191a6636065",
   "metadata": {},
   "source": [
    "# Further explanation of some points:\n",
    "\n",
    "1. The tricky part is to decide what is X, the number of shares to buy every time there is a Buy Signal. I have tried where X is 100,200,... 2000 , in intervals of 100.\n",
    "By varying X, we are finding a balance between keeping USD (stale cash) that is not invested and hence have no returns at all vs buying now, and risk not being able to buy later due to insufficient capital. \n",
    "\n",
    "2. Although in real life scenario, we could go negative initial_capital where we take on Margin, (by borrowing from the exchange). There is another level of complexity such as 'borrowing_interest_rate', because there is a fee the exchange charges when borrowing from them. Also there is a risk of Margin Call / Auto Liquidation. That is not our prioirity here, therefore, I chose to ensure that we do not go into Margin. \n",
    "\n",
    "3. During portfolio rebalancing, I sold the excess share and converted them into cash (in initial_capital) which will then be used for future purchases. "
   ]
  },
  {
   "cell_type": "code",
   "execution_count": 53,
   "id": "7e7fd92b-00ce-447c-9436-71ec5ae7cb5d",
   "metadata": {},
   "outputs": [],
   "source": [
    "def backtest_strategy(stock_data, min_shares_per_trade):\n",
    "    portfolio = {}\n",
    "    portfolio_values = []\n",
    "    \n",
    "    initial_capital = 1000000\n",
    "    commission_rate = 0.001  # 0.1% commission\n",
    "    slippage_rate = 0.0002  # 0.02% slippage\n",
    "    start_date = '1981-01-01'\n",
    "    end_date = '2023-12-31'\n",
    "    date_range = pd.bdate_range(start=start_date, end=end_date)\n",
    "\n",
    "\n",
    "    for date_str in date_range.strftime('%Y-%m-%d'):\n",
    "        for ticker in ['MSFT', 'AAPL', 'NVDA','AMZN','GOOG','META','TSLA']:\n",
    "            if ticker in stock_data:\n",
    "                df = stock_data[ticker]\n",
    "                if date_str in df.index:\n",
    "                    close_price = df.loc[date_str]['Close']\n",
    "    \n",
    "                    # Buy signal\n",
    "                    if df.loc[date_str]['Buy Signal'].any() == 1:\n",
    "                        shares_to_buy = min_shares_per_trade\n",
    "                        total_cost = shares_to_buy * close_price.values[0] * (1 + commission_rate + slippage_rate)\n",
    "                        if total_cost <= initial_capital:\n",
    "                            portfolio[ticker] = portfolio.get(ticker, 0) + shares_to_buy\n",
    "                            initial_capital -= total_cost\n",
    "                            #print(f\"Buying {shares_to_buy} shares of {ticker} at {total_cost} on {date_str}\")\n",
    "    \n",
    "                    # Sell signal\n",
    "                    elif df.loc[date_str]['Sell Signal'].any() == 1 and ticker in portfolio and portfolio[ticker] >= min_shares_per_trade:\n",
    "                        shares_to_sell = min_shares_per_trade \n",
    "                        total_cost = shares_to_sell * close_price.values[0] * (1 - commission_rate - slippage_rate) \n",
    "                        initial_capital += total_cost\n",
    "                        portfolio[ticker] -= shares_to_sell\n",
    "                        #print(f\"Selling {shares_to_sell} shares of {ticker} at {total_cost} on {date_str}\")\n",
    "\n",
    "        if (initial_capital < 0):\n",
    "            return False, portfolio_values\n",
    "\n",
    "        # Rebalance portfolio at the end of each day, calculate total_portfolio_value at the end of every day\n",
    "        total_portfolio_value = 0\n",
    "        for ticker, shares in portfolio.items():\n",
    "            df = stock_data[ticker]\n",
    "            if date_str in df.index:\n",
    "                close_price = df.loc[date_str]['Close']\n",
    "                total_portfolio_value += shares * close_price.values[0]\n",
    "        \n",
    "        for ticker, shares in portfolio.items():\n",
    "            df = stock_data[ticker]\n",
    "            if date_str in df.index:\n",
    "                close_price = df.loc[date_str]['Close']\n",
    "                ticker_value = shares * close_price.values[0]\n",
    "    \n",
    "                # Calculate the maximum allowed shares for this stock\n",
    "                max_shares = int(0.3 * total_portfolio_value / close_price.values[0])\n",
    "                #print(f\"max shares is {max_shares} and shares is {shares}\")\n",
    "    \n",
    "                if shares > max_shares:\n",
    "                    excess_shares = shares - max_shares\n",
    "                    initial_capital += excess_shares * close_price.values[0] * (1 - commission_rate - slippage_rate)\n",
    "                    portfolio[ticker] -= excess_shares\n",
    "                    #print(f\"Rebalancing: Selling {excess_shares} shares of {ticker} on {date_str}\")\n",
    "\n",
    "        # Add into a portfolio dataframe for each day what is my cash left + value in portfolio\n",
    "        portfolio_values.append(total_portfolio_value + initial_capital)\n",
    "                \n",
    "    return True, portfolio_values"
   ]
  },
  {
   "cell_type": "code",
   "execution_count": 14,
   "id": "4fd2fc0f-84fc-4c56-95b1-6fed490d0bbb",
   "metadata": {},
   "outputs": [
    {
     "name": "stdout",
     "output_type": "stream",
     "text": [
      "min_shares 100 + final_value 1301139.5792109433\n",
      "min_shares 200 + final_value 1557293.2529918817\n",
      "min_shares 300 + final_value 1835551.4988856046\n",
      "min_shares 400 + final_value 1984294.378552737\n",
      "min_shares 500 + final_value 2200419.847119014\n",
      "min_shares 600 + final_value 2482414.7249961644\n",
      "min_shares 700 + final_value 2669083.5778064756\n",
      "min_shares 800 + final_value 2754467.1100551933\n",
      "min_shares 900 + final_value 3104885.616934397\n",
      "min_shares 1000 + final_value 3043343.935562693\n",
      "min_shares 1100 + final_value 3309251.0447705374\n",
      "min_shares 1200 + final_value 3692009.4286413137\n",
      "min_shares 1300 + final_value 3416736.595313581\n",
      "min_shares 1400 + final_value 4251894.23795328\n",
      "min_shares 1500 + final_value 3974801.907536555\n",
      "min_shares 1600 + final_value 3580629.728049697\n",
      "min_shares 1700 + final_value 5218523.023709699\n",
      "min_shares 1800 + final_value 4336938.768014129\n",
      "min_shares 1900 + final_value 5257307.20039621\n",
      "min_shares 2000 + final_value 4937616.566892726\n"
     ]
    },
    {
     "data": {
      "image/png": "[encoded data removed]",
      "text/plain": [
       "<Figure size 640x480 with 1 Axes>"
      ]
     },
     "metadata": {},
     "output_type": "display_data"
    }
   ],
   "source": [
    "import matplotlib.pyplot as plt\n",
    "\n",
    "def run_backtest(min_shares):\n",
    "    success, portfolio_values = backtest_strategy(stock_data, min_shares)\n",
    "    if success:\n",
    "        final_portfolio_value = portfolio_values[-1]\n",
    "        return final_portfolio_value\n",
    "    else:\n",
    "        return None\n",
    "\n",
    "min_shares_list = [100, 200, 300, 400, 500, 600, 700, 800, 900, 1000, 1100, 1200, 1300, 1400, 1500, 1600, 1700, 1800, 1900, 2000]\n",
    "results = []\n",
    "\n",
    "for min_shares in min_shares_list:\n",
    "    final_value = run_backtest(min_shares)\n",
    "    print(f\"min_shares {min_shares} + final_value {final_value}\")\n",
    "    results.append((min_shares, final_value))\n",
    "\n",
    "\n",
    "# Create a DataFrame from the results\n",
    "df = pd.DataFrame(results, columns=['Min Shares', 'Final Value'])\n",
    "\n",
    "# Plot the results\n",
    "plt.plot(df['Min Shares'], df['Final Value'])\n",
    "plt.xlabel('Minimum Shares per Trade')\n",
    "plt.ylabel('Final Portfolio Value')\n",
    "plt.title('Portfolio Value vs. Minimum Shares')\n",
    "plt.show()"
   ]
  },
  {
   "cell_type": "markdown",
   "id": "5fbb3738-0fcd-434c-8343-40d4c26d5eec",
   "metadata": {},
   "source": [
    "# Section 4b: Backtesting\n",
    "We know that the best X, number_of_shares each time to buy, is 1900. \n",
    "\n",
    "(A possible enhancement is to try every value from 1 to a larger number, and since fractional shares are allowed as well, this leads to too many possibilities of X being tested). \n",
    "\n",
    "Hence I will set number_of_shares to buy to be 1900. \n",
    "\n",
    "\n",
    "\n",
    "\n"
   ]
  },
  {
   "cell_type": "code",
   "execution_count": 55,
   "id": "9ca90d34-f5b4-41ef-82d0-75ce3871dc3c",
   "metadata": {},
   "outputs": [
    {
     "name": "stdout",
     "output_type": "stream",
     "text": [
      "            Portfolio Value\n",
      "Date                       \n",
      "1981-01-01       1000000.00\n",
      "1981-01-02       1000000.00\n",
      "1981-01-05       1000000.00\n",
      "1981-01-06       1000000.00\n",
      "1981-01-07       1000000.00\n"
     ]
    }
   ],
   "source": [
    "gotBorrow, portfolio_values, = backtest_strategy(stock_data, 1900)\n",
    "\n",
    "start_date = '1981-01-01'\n",
    "end_date = '2023-12-31'\n",
    "date_range = pd.bdate_range(start=start_date, end=end_date)\n",
    "\n",
    "portfolio_value_df = pd.DataFrame({'Date': date_range, 'Portfolio Value': portfolio_values})\n",
    "portfolio_value_df.set_index('Date', inplace=True)\n",
    "\n",
    "pd.options.display.float_format = '{:.2f}'.format\n",
    "print(portfolio_value_df.head())\n",
    "\n"
   ]
  },
  {
   "cell_type": "markdown",
   "id": "512a25b1-5b02-4033-8f39-d311549d687e",
   "metadata": {},
   "source": [
    "# Section 5: Clearing Portfolio on last day of trading\n",
    "\n",
    "At the last day of the trading, I calculate my initial_capital (cash component) + stocks values using 2023-12-31, last day's Closing price, to come up with `final_amount`\n",
    "\n",
    "This can be obtained from the final row of `portfolio_value_df`  \n",
    "\n"
   ]
  },
  {
   "cell_type": "code",
   "execution_count": 58,
   "id": "d96d1224-fcb0-41f7-98e2-f80397fc7726",
   "metadata": {},
   "outputs": [
    {
     "name": "stdout",
     "output_type": "stream",
     "text": [
      "Final amount: 5257307.20039621\n"
     ]
    }
   ],
   "source": [
    "final_amount = portfolio_value_df.iloc[-1]\n",
    "\n",
    "print(f\"Final amount: {final_amount.values[0]}\")"
   ]
  },
  {
   "cell_type": "markdown",
   "id": "76c7d8cf-3b00-4f60-ae22-31d42db1f31f",
   "metadata": {},
   "source": [
    "# Section 6: Calculating the performance metrics \n"
   ]
  },
  {
   "cell_type": "code",
   "execution_count": 61,
   "id": "3aca7e12-7df2-426a-99df-8997d9d5010f",
   "metadata": {},
   "outputs": [
    {
     "name": "stdout",
     "output_type": "stream",
     "text": [
      "Total Return: 425.73 %\n",
      "Annual Return: 9.90 %\n",
      "Annual Volatility: 5119.85\n",
      "Maximum Drawdown: 92.57%\n",
      "Sharpe Ratio: 0.0008554622781080126\n",
      "Sortino Ratio: 4.723530009740623\n"
     ]
    }
   ],
   "source": [
    "total_return = (final_amount - 1000000) / 1000000 \n",
    "print(f\"Total Return: {total_return.item() * 100:.2f} %\")\n",
    "\n",
    "annual_return = (total_return * 100) / 43\n",
    "print(f\"Annual Return: {annual_return.item():.2f} %\")\n",
    "\n",
    "portfolio_value_df['Daily Return'] = portfolio_value_df['Portfolio Value'].pct_change()\n",
    "annual_volatility = portfolio_value_df['Daily Return'].std() * np.sqrt(252)\n",
    "print(f\"Annual Volatility: {annual_volatility.item():.2f}\")\n",
    "\n",
    "# Calculate maximum drawdown, measure of the peak-to-trough decline\n",
    "portfolio_value_df['Drawdown'] = portfolio_value_df['Portfolio Value'].cummax() - portfolio_value_df['Portfolio Value']\n",
    "max_drawdown = portfolio_value_df['Drawdown'].max() / portfolio_value_df['Portfolio Value'].max() * 100\n",
    "print(f\"Maximum Drawdown: {max_drawdown:.2f}%\")\n",
    "\n",
    "# Calculate Sharpe Ratio\n",
    "risk_free_rate = 0.02  \n",
    "sharpe_ratio = (portfolio_value_df['Daily Return'].mean() - risk_free_rate) / annual_volatility\n",
    "print(f\"Sharpe Ratio: {sharpe_ratio.item()}\")\n",
    "\n",
    "# Calculate Sortino Ratio\n",
    "excess_returns = portfolio_value_df['Daily Return'] - risk_free_rate / 252  # Adjust for daily risk-free rate\n",
    "downside_deviation = excess_returns[excess_returns < 0].std() * np.sqrt(252)\n",
    "sortino_ratio = excess_returns.mean() / downside_deviation\n",
    "print(f\"Sortino Ratio: {sortino_ratio}\")\n",
    "\n"
   ]
  },
  {
   "cell_type": "markdown",
   "id": "358a620f-a6d4-487f-a926-7dadf8750672",
   "metadata": {},
   "source": [
    "# Section 6b Further Analysis on every Trade \n",
    "\n",
    "1. Every Sell is considered 1 trade\n",
    "2. At the end of 2023-12-31 there are still assets in portfolio and we do not sell them as that is not following our RSI Signal"
   ]
  },
  {
   "cell_type": "code",
   "execution_count": 64,
   "id": "78bccde6-080d-4edf-a82f-9162fb84a9b1",
   "metadata": {},
   "outputs": [],
   "source": [
    "# Similar function to backtest_strategy but we are only concerned about the trades\n",
    "\n",
    "def analyze_trades(stock_data, min_shares_per_trade):\n",
    "    portfolio = {}  # {ticker: (shares_held, average_cost_basis)}\n",
    "    portfolio_values = []\n",
    "    \n",
    "    initial_capital = 1000000\n",
    "    commission_rate = 0.001  # 0.1% commission\n",
    "    slippage_rate = 0.0002  # 0.02% slippage\n",
    "    start_date = '1981-01-01'\n",
    "    end_date = '2023-12-31'\n",
    "    date_range = pd.bdate_range(start=start_date, end=end_date)\n",
    "    total_trades = 0\n",
    "    total_profit_loss = 0\n",
    "    num_of_profitable_trade = 0\n",
    "\n",
    "\n",
    "    for date_str in date_range.strftime('%Y-%m-%d'):\n",
    "        for ticker in ['MSFT', 'AAPL', 'NVDA','AMZN','GOOG','META','TSLA']:\n",
    "            if ticker in stock_data:\n",
    "                df = stock_data[ticker]\n",
    "                if date_str in df.index:\n",
    "                    close_price = df.loc[date_str]['Close']\n",
    "    \n",
    "                    # Buy signal\n",
    "                    if df.loc[date_str]['Buy Signal'].any() == 1:\n",
    "                        shares_to_buy = min_shares_per_trade \n",
    "                        total_cost = shares_to_buy * close_price.values[0] * (1 + commission_rate + slippage_rate)\n",
    "                        if total_cost <= initial_capital:\n",
    "                            if ticker in portfolio:\n",
    "                                current_shares, avg_cost_basis = portfolio[ticker]\n",
    "                                total_cost_basis = (current_shares * avg_cost_basis) + total_cost\n",
    "                                new_avg_cost_basis = total_cost_basis / (current_shares + shares_to_buy)\n",
    "                                portfolio[ticker] = (current_shares + shares_to_buy, new_avg_cost_basis)\n",
    "                            else:\n",
    "                                portfolio[ticker] = (shares_to_buy, close_price.values[0])\n",
    "                            initial_capital -= total_cost\n",
    "                            # Do not increment total_trades because we only count it when we sell\n",
    "    \n",
    "                    # Sell signal\n",
    "                    elif df.loc[date_str]['Sell Signal'].any() == 1 and ticker in portfolio and portfolio[ticker][0] >= min_shares_per_trade:\n",
    "                        shares_to_sell = min_shares_per_trade \n",
    "                        shares_held, avg_cost_basis = portfolio[ticker]\n",
    "                        total_cost_basis = avg_cost_basis * shares_to_sell\n",
    "                        total_proceeds = shares_to_sell * close_price.values[0] * (1 - commission_rate - slippage_rate)\n",
    "                        profit_loss = total_proceeds - total_cost_basis\n",
    "                        total_profit_loss += profit_loss\n",
    "                        total_trades += 1\n",
    "\n",
    "                        if (profit_loss > 0):\n",
    "                            num_of_profitable_trade += 1\n",
    "\n",
    "                        remaining_shares = shares_held - shares_to_sell\n",
    "                        if remaining_shares > 0:\n",
    "                            portfolio[ticker] = (remaining_shares, avg_cost_basis)\n",
    "                        else:\n",
    "                            del portfolio[ticker]\n",
    "                        initial_capital += total_proceeds\n",
    "\n",
    "        # Rebalance portfolio at the end of each day, calculate total_portfolio_value at the end of every day\n",
    "        total_portfolio_value = 0\n",
    "        for ticker, (shares, avg_cost) in portfolio.items():\n",
    "            df = stock_data[ticker]\n",
    "            if date_str in df.index:\n",
    "                close_price = df.loc[date_str]['Close']\n",
    "                total_portfolio_value += shares * close_price.values[0]\n",
    "        \n",
    "        for ticker, (shares, avg_cost) in portfolio.items():\n",
    "            df = stock_data[ticker]\n",
    "            if date_str in df.index:\n",
    "                close_price = df.loc[date_str]['Close']\n",
    "                ticker_value = shares * close_price.values[0]\n",
    "    \n",
    "                # Calculate the maximum allowed shares for this stock\n",
    "                max_shares = int(0.3 * total_portfolio_value / close_price.values[0])\n",
    "                #print(f\"max shares is {max_shares} and shares is {shares}\")\n",
    "    \n",
    "                if shares > max_shares:\n",
    "                    # excess_shares = shares - max_shares\n",
    "                    # initial_capital += excess_shares * close_price.values[0]\n",
    "                    # portfolio[ticker] -= excess_shares\n",
    "                    shares_to_sell = shares - max_shares\n",
    "                    shares_held, avg_cost_basis = portfolio[ticker]\n",
    "                    total_cost_basis = avg_cost_basis * shares_to_sell\n",
    "                    total_proceeds = shares_to_sell * close_price.values[0] * (1 - commission_rate - slippage_rate)\n",
    "                    profit_loss = total_proceeds - total_cost_basis\n",
    "                    total_profit_loss += profit_loss\n",
    "                    total_trades += 1\n",
    "                    initial_capital += total_proceeds\n",
    "\n",
    "                    if (profit_loss > 0):\n",
    "                        num_of_profitable_trade += 1\n",
    "\n",
    "                    remaining_shares = shares - shares_to_sell\n",
    "                    portfolio[ticker] = (remaining_shares, avg_cost_basis)\n",
    "\n",
    "                    \n",
    "\n",
    "        # Add into a portfolio dataframe for each day what is my cash left + value in portfolio\n",
    "        portfolio_values.append(total_portfolio_value + initial_capital)\n",
    "\n",
    "    if total_trades > 0:\n",
    "        average_return_per_trade = total_profit_loss / total_trades\n",
    "        win_rate = num_of_profitable_trade / total_trades\n",
    "        expectancy = total_profit_loss / total_trades\n",
    "    else:\n",
    "        average_return_per_trade = 0\n",
    "        win_rate = 0\n",
    "        expectancy = 0\n",
    "            \n",
    "    return True, portfolio_values, total_trades, average_return_per_trade, win_rate, expectancy\n"
   ]
  },
  {
   "cell_type": "code",
   "execution_count": 66,
   "id": "74d23c64-a936-4b14-a33e-96459a19ced1",
   "metadata": {},
   "outputs": [],
   "source": [
    "canFinish, portfolio_values, total_trades, average_return_per_trade, win_rate, expectancy = analyze_trades(stock_data, 1900)\n"
   ]
  },
  {
   "cell_type": "code",
   "execution_count": 67,
   "id": "dc3d0d95-c2cc-4501-a7b3-25b50afc7320",
   "metadata": {},
   "outputs": [
    {
     "name": "stdout",
     "output_type": "stream",
     "text": [
      "Total Trades: 6152\n",
      "Average Return Per Trade: 640.8668582029227\n",
      "Win Rate: 0.6924577373211963\n",
      "Expectancy: 640.8668582029227\n"
     ]
    }
   ],
   "source": [
    "print(f\"Total Trades: {total_trades}\") #6230\n",
    "print(f\"Average Return Per Trade: {average_return_per_trade}\") #667\n",
    "\n",
    "print(f\"Win Rate: {win_rate}\") #0.69807\n",
    "print(f\"Expectancy: {expectancy}\")"
   ]
  },
  {
   "cell_type": "markdown",
   "id": "d90896a1-6324-497c-8f0c-b6f7263c8a28",
   "metadata": {},
   "source": [
    "# Section 7: Questions and Answers\n",
    "1. Which month did the portfolio have the highest return, and which stock contributed the most to that return?\n",
    "2. Did the portfolio outperform the S&P 500? If so, what is the rationale for the outperformance?\n",
    "3. How to evaluate whether this is a profitable strategy, and what tests would you conduct to assess its robustness?\n",
    "4. Any suggestions to improve the current strategy?"
   ]
  },
  {
   "cell_type": "code",
   "execution_count": 69,
   "id": "d01b14c5-4e0e-42ba-bd35-00d8dada1cea",
   "metadata": {},
   "outputs": [
    {
     "name": "stdout",
     "output_type": "stream",
     "text": [
      "The month with the highest return is: 2019-01-01 00:00:00\n"
     ]
    }
   ],
   "source": [
    "import pandas as pd\n",
    "\n",
    "portfolio_value_df['Monthly Return'] = portfolio_value_df['Portfolio Value'].pct_change()\n",
    "\n",
    "# Assuming 'Date' is the index of your DataFrame\n",
    "monthly_returns = portfolio_value_df.groupby(pd.Grouper(freq='MS'))['Monthly Return'].sum()\n",
    "\n",
    "# Find the month with the highest return\n",
    "best_month = monthly_returns.idxmax()\n",
    "\n",
    "print(f\"The month with the highest return is: {best_month}\")"
   ]
  },
  {
   "cell_type": "markdown",
   "id": "5a848c3b-0d75-4d67-80ea-cd599d58dac8",
   "metadata": {},
   "source": [
    "# Answers \n",
    "\n",
    "1. The month with the highest return is: 2022-09-01 00:00:00\n",
    "\n",
    "2. No it did not outperform S&P because according to https://www.officialdata.org/us/stocks/s-p-500/1981?amount=1000000&endYear=2023 `1M USD` invested in 1981 will lead to 103M in 2023.\n",
    "The reason why we did not outperform S&P is because we did not invest **all the money at 1981**.\n",
    "In retrospect, if someone bought $1M worth of AAPL stock at 1981, it will be worth close to 3.6B today (https://compound.mywallst.com/compound-interest-calculator/stocks/AAPL/1000000/39/) outperforming S&P by around 36x.\n",
    "However it real life scenario, it will be unwise to put all our eggs in 1 basket. \n",
    "\n",
    "3. Whether it is a profitable strategy or not, depends on many variables. If compared against the risk free return rate, and since we outperform the risk-free return rate i would consider this as a profitable strategy. However, if compared against S&P then this is not profitable because S&P assumes `1M USD` fully invested in 1981.\n",
    "\n",
    "\n",
    "    To evaluate robustness, we could\n",
    "    - Test the strategy over various historical periods to assess its performance under different market conditions.\n",
    "    - Use Walk-Forward Analysis:\n",
    "    Divide the historical data into training and testing periods. Train the model on the training data and test it on the testing data. Gradually shift the window to assess performance over time.\n",
    "\n",
    "\n",
    "\n",
    "4. How can we improve the RSI trading strategy?\n",
    "\n",
    "    Currently some issues I noticed are:\n",
    "    \n",
    "    - RSI is a lagging indicator, meaning it reacts to price movements after they've already occurred. This can lead to missed opportunities or late entries.\n",
    "    \n",
    "    - Equal Allocation: While equal allocation can simplify portfolio management, it might not be optimal. Consider risk-parity or other portfolio allocation strategies based on factors like volatility and correlation.\n",
    "  \n",
    "   Some suggestions:\n",
    "\n",
    "   - Use more indicators such as Mean Reversion to identify stocks that have deviated significantly from their historical average and buy when they are oversold or sell when they are overbought.\n",
    "  \n",
    "   - Experiment with Different Periods: The standard RSI period is 14.\n",
    "  \n",
    "   \n"
   ]
  }
 ],
 "metadata": {
  "kernelspec": {
   "display_name": "Python 3 (ipykernel)",
   "language": "python",
   "name": "python3"
  },
  "language_info": {
   "codemirror_mode": {
    "name": "ipython",
    "version": 3
   },
   "file_extension": ".py",
   "mimetype": "text/x-python",
   "name": "python",
   "nbconvert_exporter": "python",
   "pygments_lexer": "ipython3",
   "version": "3.12.7"
  }
 },
 "nbformat": 4,
 "nbformat_minor": 5
}
